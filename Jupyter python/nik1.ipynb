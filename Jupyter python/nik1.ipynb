{
 "cells": [
  {
   "cell_type": "code",
   "execution_count": 1,
   "id": "d8a29c75-893f-4b07-8831-8b2870897422",
   "metadata": {},
   "outputs": [
    {
     "name": "stdout",
     "output_type": "stream",
     "text": [
      "Hello world\n"
     ]
    }
   ],
   "source": [
    "print(\"Hello world\")"
   ]
  },
  {
   "cell_type": "code",
   "execution_count": 2,
   "id": "f1462c76-5b41-4ca4-b58d-cb73ec894cb4",
   "metadata": {},
   "outputs": [],
   "source": [
    "def greet(name):\n",
    "    print(f\"Hello\",{name})"
   ]
  },
  {
   "cell_type": "code",
   "execution_count": 3,
   "id": "ab0f0468-ad08-4386-bdc4-05639d611b1e",
   "metadata": {},
   "outputs": [
    {
     "name": "stdout",
     "output_type": "stream",
     "text": [
      "Mary\n",
      "Jane\n",
      "24\n"
     ]
    }
   ],
   "source": [
    "first_name=\"Mary\"\n",
    "last_name=\"Jane\"\n",
    "age=24\n",
    "print(first_name)\n",
    "print(last_name)\n",
    "print(age)"
   ]
  },
  {
   "cell_type": "code",
   "execution_count": 4,
   "id": "a156ad7a-9f69-4ced-b5cf-1ac6d134f646",
   "metadata": {},
   "outputs": [
    {
     "name": "stdout",
     "output_type": "stream",
     "text": [
      "Mary\n",
      "30\n"
     ]
    }
   ],
   "source": [
    "first_name=\"Mary\"\n",
    "last_name=\"Jane\"\n",
    "ageInYears=30\n",
    "weightInKg=72.5\n",
    "isMarried=True\n",
    "print(first_name)\n",
    "print(ageInYears)\n"
   ]
  },
  {
   "cell_type": "code",
   "execution_count": 5,
   "id": "4654a562-2e42-4157-b702-cb28ef430bef",
   "metadata": {},
   "outputs": [
    {
     "data": {
      "text/plain": [
       "int"
      ]
     },
     "execution_count": 5,
     "metadata": {},
     "output_type": "execute_result"
    }
   ],
   "source": [
    "type(ageInYears)"
   ]
  },
  {
   "cell_type": "code",
   "execution_count": 6,
   "id": "950db910-0761-4300-9fac-674e2b41dcc7",
   "metadata": {},
   "outputs": [
    {
     "data": {
      "text/plain": [
       "float"
      ]
     },
     "execution_count": 6,
     "metadata": {},
     "output_type": "execute_result"
    }
   ],
   "source": [
    "type(weightInKg)\n"
   ]
  },
  {
   "cell_type": "code",
   "execution_count": 7,
   "id": "8d552840-82de-46af-af0e-6bb1baaa5937",
   "metadata": {},
   "outputs": [
    {
     "data": {
      "text/plain": [
       "str"
      ]
     },
     "execution_count": 7,
     "metadata": {},
     "output_type": "execute_result"
    }
   ],
   "source": [
    "type(last_name)"
   ]
  },
  {
   "cell_type": "code",
   "execution_count": 8,
   "id": "88c6bdca-5803-4968-8b46-18242d87c7ee",
   "metadata": {},
   "outputs": [
    {
     "data": {
      "text/plain": [
       "bool"
      ]
     },
     "execution_count": 8,
     "metadata": {},
     "output_type": "execute_result"
    }
   ],
   "source": [
    "type(isMarried)"
   ]
  },
  {
   "cell_type": "code",
   "execution_count": 9,
   "id": "4f88a254-6d23-454e-ae6d-7e902adec4d5",
   "metadata": {},
   "outputs": [
    {
     "name": "stdout",
     "output_type": "stream",
     "text": [
      "<class 'int'>\n"
     ]
    }
   ],
   "source": [
    "print(type(ageInYears))"
   ]
  },
  {
   "cell_type": "code",
   "execution_count": null,
   "id": "c0c3c311-2383-4233-b453-eff6d0e8d5b8",
   "metadata": {},
   "outputs": [],
   "source": []
  }
 ],
 "metadata": {
  "kernelspec": {
   "display_name": "Python 3 (ipykernel)",
   "language": "python",
   "name": "python3"
  },
  "language_info": {
   "codemirror_mode": {
    "name": "ipython",
    "version": 3
   },
   "file_extension": ".py",
   "mimetype": "text/x-python",
   "name": "python",
   "nbconvert_exporter": "python",
   "pygments_lexer": "ipython3",
   "version": "3.13.5"
  }
 },
 "nbformat": 4,
 "nbformat_minor": 5
}
