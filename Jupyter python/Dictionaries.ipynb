{
 "cells": [
  {
   "cell_type": "code",
   "execution_count": 1,
   "id": "e04d3f78-2a87-41e5-b644-1d0ae66d533d",
   "metadata": {},
   "outputs": [
    {
     "data": {
      "text/plain": [
       "{'name': 'Alice', 'age': 30, 'height': 5.6}"
      ]
     },
     "execution_count": 1,
     "metadata": {},
     "output_type": "execute_result"
    }
   ],
   "source": [
    "empty_dict={}\n",
    "employee={'name':'Alice',\n",
    "          'age':30,\n",
    "          'height':5.6}\n",
    "employee"
   ]
  },
  {
   "cell_type": "code",
   "execution_count": 2,
   "id": "bfb66ca3-80a8-483f-bb4b-e4a16d2d300c",
   "metadata": {},
   "outputs": [
    {
     "data": {
      "text/plain": [
       "'Alice'"
      ]
     },
     "execution_count": 2,
     "metadata": {},
     "output_type": "execute_result"
    }
   ],
   "source": [
    "employee['name']"
   ]
  },
  {
   "cell_type": "code",
   "execution_count": 3,
   "id": "a073501f-f32e-471e-9e34-3477f08552bc",
   "metadata": {},
   "outputs": [
    {
     "data": {
      "text/plain": [
       "30"
      ]
     },
     "execution_count": 3,
     "metadata": {},
     "output_type": "execute_result"
    }
   ],
   "source": [
    "employee['age']"
   ]
  },
  {
   "cell_type": "code",
   "execution_count": 4,
   "id": "439c5514-b41b-447d-ab1e-2c97ee26cb33",
   "metadata": {},
   "outputs": [
    {
     "data": {
      "text/plain": [
       "{'name': 'Alice', 'age': 28, 'height': 5.6}"
      ]
     },
     "execution_count": 4,
     "metadata": {},
     "output_type": "execute_result"
    }
   ],
   "source": [
    "employee['age']=28\n",
    "employee"
   ]
  },
  {
   "cell_type": "code",
   "execution_count": 5,
   "id": "d1786d99-c81f-43bb-98ff-453d4407a94c",
   "metadata": {},
   "outputs": [
    {
     "data": {
      "text/plain": [
       "dict_keys(['name', 'age', 'height'])"
      ]
     },
     "execution_count": 5,
     "metadata": {},
     "output_type": "execute_result"
    }
   ],
   "source": [
    "employee.keys()"
   ]
  },
  {
   "cell_type": "code",
   "execution_count": 6,
   "id": "1ca2a222-e9e0-43bb-ac37-6a7a69ff6e78",
   "metadata": {},
   "outputs": [
    {
     "data": {
      "text/plain": [
       "dict_values(['Alice', 28, 5.6])"
      ]
     },
     "execution_count": 6,
     "metadata": {},
     "output_type": "execute_result"
    }
   ],
   "source": [
    "employee.values()"
   ]
  },
  {
   "cell_type": "code",
   "execution_count": 7,
   "id": "a337e796-0755-4532-940b-9318f0e938bd",
   "metadata": {},
   "outputs": [
    {
     "data": {
      "text/plain": [
       "dict_items([('name', 'Alice'), ('age', 28), ('height', 5.6)])"
      ]
     },
     "execution_count": 7,
     "metadata": {},
     "output_type": "execute_result"
    }
   ],
   "source": [
    "employee.items()"
   ]
  },
  {
   "cell_type": "code",
   "execution_count": null,
   "id": "59ae93d6-a723-4dc0-80d8-315368d09811",
   "metadata": {},
   "outputs": [],
   "source": []
  }
 ],
 "metadata": {
  "kernelspec": {
   "display_name": "Python 3 (ipykernel)",
   "language": "python",
   "name": "python3"
  },
  "language_info": {
   "codemirror_mode": {
    "name": "ipython",
    "version": 3
   },
   "file_extension": ".py",
   "mimetype": "text/x-python",
   "name": "python",
   "nbconvert_exporter": "python",
   "pygments_lexer": "ipython3",
   "version": "3.13.5"
  }
 },
 "nbformat": 4,
 "nbformat_minor": 5
}
