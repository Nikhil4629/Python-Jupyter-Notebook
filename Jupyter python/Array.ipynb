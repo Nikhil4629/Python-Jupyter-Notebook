{
 "cells": [
  {
   "cell_type": "code",
   "execution_count": 5,
   "id": "aa583f7a-ac68-40ad-b1d6-a9ca00d55326",
   "metadata": {},
   "outputs": [
    {
     "name": "stdout",
     "output_type": "stream",
     "text": [
      "1D Array: [1 2 3 4 5]\n",
      "2D Array:\n",
      " [[1 2 3]\n",
      " [4 5 6]]\n"
     ]
    }
   ],
   "source": [
    "import numpy as np\n",
    "\n",
    "array_1d=np.array([1,2,3,4,5])\n",
    "print(\"1D Array:\",array_1d)\n",
    "\n",
    "array_2d=np.array([[1,2,3],[4,5,6]])\n",
    "print(\"2D Array:\\n\",array_2d)"
   ]
  },
  {
   "cell_type": "code",
   "execution_count": 6,
   "id": "5cf2c532-a82a-4655-8870-66c7398113f8",
   "metadata": {},
   "outputs": [
    {
     "name": "stdout",
     "output_type": "stream",
     "text": [
      "Array of zeros:\n",
      " [[0. 0. 0. 0.]\n",
      " [0. 0. 0. 0.]\n",
      " [0. 0. 0. 0.]]\n"
     ]
    }
   ],
   "source": [
    "zeros_array=np.zeros((3,4))\n",
    "print(\"Array of zeros:\\n\",zeros_array)"
   ]
  },
  {
   "cell_type": "code",
   "execution_count": 7,
   "id": "7ff65d61-128e-4e60-b1bf-ab55e1ede554",
   "metadata": {},
   "outputs": [
    {
     "name": "stdout",
     "output_type": "stream",
     "text": [
      "Array of ones: [1. 1. 1. 1. 1.]\n"
     ]
    }
   ],
   "source": [
    "ones_array=np.ones(5)\n",
    "print(\"Array of ones:\",ones_array)"
   ]
  },
  {
   "cell_type": "code",
   "execution_count": 9,
   "id": "574b66a2-7f3e-47db-9a50-8d174097a38f",
   "metadata": {},
   "outputs": [
    {
     "name": "stdout",
     "output_type": "stream",
     "text": [
      "Range Array: [0 1 2 3 4 5 6 7 8 9]\n"
     ]
    }
   ],
   "source": [
    "range_array=np.arange(10)\n",
    "print(\"Range Array:\",range_array)"
   ]
  },
  {
   "cell_type": "code",
   "execution_count": 12,
   "id": "067267bc-0a61-4cc3-a1b3-0467b72b04ad",
   "metadata": {},
   "outputs": [
    {
     "name": "stdout",
     "output_type": "stream",
     "text": [
      "Linspace array: [0.   0.25 0.5  0.75 1.  ]\n"
     ]
    }
   ],
   "source": [
    "linspace_array=np.linspace(0,1,5)\n",
    "print(\"Linspace array:\",linspace_array)"
   ]
  },
  {
   "cell_type": "code",
   "execution_count": null,
   "id": "3ae5e95a-3efc-4c03-99b9-94ca167bf636",
   "metadata": {},
   "outputs": [],
   "source": [
    "print(\"Shape of array_2d:\"\n",
    "print(\"Size of array_2d:\""
   ]
  },
  {
   "cell_type": "code",
   "execution_count": null,
   "id": "c1473ffb-4ca7-4147-94af-0c3a9c114a95",
   "metadata": {},
   "outputs": [],
   "source": []
  }
 ],
 "metadata": {
  "kernelspec": {
   "display_name": "Python 3 (ipykernel)",
   "language": "python",
   "name": "python3"
  },
  "language_info": {
   "codemirror_mode": {
    "name": "ipython",
    "version": 3
   },
   "file_extension": ".py",
   "mimetype": "text/x-python",
   "name": "python",
   "nbconvert_exporter": "python",
   "pygments_lexer": "ipython3",
   "version": "3.13.5"
  }
 },
 "nbformat": 4,
 "nbformat_minor": 5
}
