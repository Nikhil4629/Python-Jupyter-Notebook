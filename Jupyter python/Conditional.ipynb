{
 "cells": [
  {
   "cell_type": "code",
   "execution_count": 1,
   "id": "b720e43e-880e-451a-8199-99bb6e34a50e",
   "metadata": {},
   "outputs": [
    {
     "name": "stdout",
     "output_type": "stream",
     "text": [
      "It's a warm day\n"
     ]
    }
   ],
   "source": [
    "tempreature=25\n",
    "if tempreature > 20:\n",
    "    print(\"It's a warm day\")\n"
   ]
  },
  {
   "cell_type": "code",
   "execution_count": 2,
   "id": "7ace4fe4-7c06-41ba-81ad-94bac1f3d405",
   "metadata": {},
   "outputs": [
    {
     "name": "stdout",
     "output_type": "stream",
     "text": [
      "It's a cool day\n"
     ]
    }
   ],
   "source": [
    "tempreature=18\n",
    "if tempreature > 20:\n",
    "    print(\"It's a warm day\")\n",
    "else:\n",
    "    print(\"It's a cool day\")"
   ]
  },
  {
   "cell_type": "code",
   "execution_count": 3,
   "id": "fc61e309-d7f3-4e6e-851c-93ca4f3b6bd6",
   "metadata": {},
   "outputs": [
    {
     "name": "stdout",
     "output_type": "stream",
     "text": [
      "It's a warm day\n"
     ]
    }
   ],
   "source": [
    "tempreature=23\n",
    "if tempreature > 30:\n",
    "    print(\"It's a hot day\")\n",
    "elif tempreature > 20:\n",
    "    print(\"It's a warm day\")\n",
    "else:\n",
    "    print(\"It's a cool day\")"
   ]
  },
  {
   "cell_type": "code",
   "execution_count": 4,
   "id": "1c4cd61d-1360-498e-879c-49cfac264266",
   "metadata": {},
   "outputs": [
    {
     "name": "stdout",
     "output_type": "stream",
     "text": [
      "It's a cool day\n"
     ]
    }
   ],
   "source": [
    "tempreature=13\n",
    "if tempreature > 30:\n",
    "    print(\"It's a hot day\")\n",
    "elif tempreature > 20:\n",
    "    print(\"It's a warm day\")\n",
    "else:\n",
    "    print(\"It's a cool day\")"
   ]
  },
  {
   "cell_type": "code",
   "execution_count": 5,
   "id": "85a9c5ce-cb1f-4438-8a5b-cb811a3d148c",
   "metadata": {},
   "outputs": [
    {
     "name": "stdout",
     "output_type": "stream",
     "text": [
      "It's not a warm day\n"
     ]
    }
   ],
   "source": [
    "tempreature=13\n",
    "wheather=\"sunny\"\n",
    "if tempreature>15:\n",
    "    if wheather==\"sunny\":\n",
    "        print(\"It's a sunny day and it's warm\")\n",
    "    else:\n",
    "        print(\"It's a warm day but not sunny\")\n",
    "else:\n",
    "    print(\"It's not a warm day\")"
   ]
  },
  {
   "cell_type": "code",
   "execution_count": 6,
   "id": "1e94227b-2db4-422c-b019-887507279beb",
   "metadata": {},
   "outputs": [
    {
     "name": "stdout",
     "output_type": "stream",
     "text": [
      "It's a sunny day and it's warm\n"
     ]
    }
   ],
   "source": [
    "tempreature=18\n",
    "wheather=\"sunny\"\n",
    "if tempreature>15:\n",
    "    if wheather==\"sunny\":\n",
    "        print(\"It's a sunny day and it's warm\")\n",
    "    else:\n",
    "        print(\"It's a warm day but not sunny\")\n",
    "else:\n",
    "    print(\"It's not a warm day\")"
   ]
  },
  {
   "cell_type": "code",
   "execution_count": 7,
   "id": "0575a535-f572-40ff-96b5-8b1b3ef7d445",
   "metadata": {},
   "outputs": [
    {
     "name": "stdout",
     "output_type": "stream",
     "text": [
      "It's a warm day but not sunny\n"
     ]
    }
   ],
   "source": [
    "tempreature=18\n",
    "wheather=\"rainy\"\n",
    "if tempreature>15:\n",
    "    if wheather==\"sunny\":\n",
    "        print(\"It's a sunny day and it's warm\")\n",
    "    else:\n",
    "        print(\"It's a warm day but not sunny\")\n",
    "else:\n",
    "    print(\"It's not a warm day\")"
   ]
  },
  {
   "cell_type": "code",
   "execution_count": null,
   "id": "5693e9b5-f275-41da-97d3-ef4f1c57e844",
   "metadata": {},
   "outputs": [],
   "source": []
  }
 ],
 "metadata": {
  "kernelspec": {
   "display_name": "Python 3 (ipykernel)",
   "language": "python",
   "name": "python3"
  },
  "language_info": {
   "codemirror_mode": {
    "name": "ipython",
    "version": 3
   },
   "file_extension": ".py",
   "mimetype": "text/x-python",
   "name": "python",
   "nbconvert_exporter": "python",
   "pygments_lexer": "ipython3",
   "version": "3.13.5"
  }
 },
 "nbformat": 4,
 "nbformat_minor": 5
}
