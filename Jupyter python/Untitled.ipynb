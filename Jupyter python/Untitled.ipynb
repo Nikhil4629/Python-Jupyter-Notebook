{
 "cells": [
  {
   "cell_type": "code",
   "execution_count": 7,
   "id": "7aac0c0b-84dc-43cc-89dc-e40d5f3ab66b",
   "metadata": {},
   "outputs": [
    {
     "name": "stdout",
     "output_type": "stream",
     "text": [
      "78.5\n",
      "31.400000000000002\n"
     ]
    }
   ],
   "source": [
    "class Circle:\n",
    "    def __init__(self,radius):\n",
    "        self.radius=radius\n",
    "    def area(self):\n",
    "        return 3.14*(self.radius**2)\n",
    "    def circumference(self):\n",
    "        return 2*3.14*self.radius\n",
    "my_circle=Circle(5)\n",
    "print(my_circle.area())\n",
    "print(my_circle.circumference())"
   ]
  },
  {
   "cell_type": "code",
   "execution_count": 8,
   "id": "b819c6b9-6c0c-4ab3-92b1-34b20e829a6d",
   "metadata": {},
   "outputs": [
    {
     "ename": "TypeError",
     "evalue": "Human() takes no arguments",
     "output_type": "error",
     "traceback": [
      "\u001b[1;31m---------------------------------------------------------------------------\u001b[0m",
      "\u001b[1;31mTypeError\u001b[0m                                 Traceback (most recent call last)",
      "Cell \u001b[1;32mIn[8], line 9\u001b[0m\n\u001b[0;32m      7\u001b[0m     \u001b[38;5;28;01mdef\u001b[39;00m\u001b[38;5;250m \u001b[39m\u001b[38;5;21mtalk\u001b[39m(\u001b[38;5;28mself\u001b[39m):\n\u001b[0;32m      8\u001b[0m         \u001b[38;5;28mprint\u001b[39m(\u001b[38;5;124mf\u001b[39m\u001b[38;5;124m\"\u001b[39m\u001b[38;5;132;01m{\u001b[39;00m\u001b[38;5;28mself\u001b[39m\u001b[38;5;241m.\u001b[39mname\u001b[38;5;132;01m}\u001b[39;00m\u001b[38;5;124m is talking\u001b[39m\u001b[38;5;124m\"\u001b[39m)\n\u001b[1;32m----> 9\u001b[0m h1\u001b[38;5;241m=\u001b[39mHuman(\u001b[38;5;124m\"\u001b[39m\u001b[38;5;124mJohn\u001b[39m\u001b[38;5;124m\"\u001b[39m,\u001b[38;5;241m27\u001b[39m)\n\u001b[0;32m     10\u001b[0m h1\u001b[38;5;241m.\u001b[39mtalk()\n",
      "\u001b[1;31mTypeError\u001b[0m: Human() takes no arguments"
     ]
    }
   ],
   "source": [
    "class Human:\n",
    "    def __init(self,name,age):\n",
    "        self.name=name\n",
    "        self.age=age\n",
    "    def walk(self):\n",
    "        print(f\"{self.name} is walking\")\n",
    "    def talk(self):\n",
    "        print(f\"{self.name} is talking\")\n",
    "h1=Human(\"John\",27)\n",
    "h1.talk()"
   ]
  },
  {
   "cell_type": "code",
   "execution_count": null,
   "id": "b26dab34-2873-40c0-92dd-af0836a6ce81",
   "metadata": {},
   "outputs": [],
   "source": []
  }
 ],
 "metadata": {
  "kernelspec": {
   "display_name": "Python 3 (ipykernel)",
   "language": "python",
   "name": "python3"
  },
  "language_info": {
   "codemirror_mode": {
    "name": "ipython",
    "version": 3
   },
   "file_extension": ".py",
   "mimetype": "text/x-python",
   "name": "python",
   "nbconvert_exporter": "python",
   "pygments_lexer": "ipython3",
   "version": "3.13.5"
  }
 },
 "nbformat": 4,
 "nbformat_minor": 5
}
