{
 "cells": [
  {
   "cell_type": "code",
   "execution_count": 1,
   "id": "8954b636-325b-44a2-b9c8-f9fac2e4c04d",
   "metadata": {},
   "outputs": [
    {
     "data": {
      "text/plain": [
       "25"
      ]
     },
     "execution_count": 1,
     "metadata": {},
     "output_type": "execute_result"
    }
   ],
   "source": [
    "square=lambda x:x**2\n",
    "square(5)"
   ]
  },
  {
   "cell_type": "code",
   "execution_count": 2,
   "id": "edb46470-e440-49c2-9894-901c1fca4b7b",
   "metadata": {},
   "outputs": [
    {
     "data": {
      "text/plain": [
       "[('John', 'Smith'), ('Mary', 'Jane'), ('Bob', 'Smith')]"
      ]
     },
     "execution_count": 2,
     "metadata": {},
     "output_type": "execute_result"
    }
   ],
   "source": [
    "first_names=[\"John\",\"Mary\",\"Bob\"]\n",
    "last_names=[\"Smith\",\"Jane\",\"Smith\"]\n",
    "full_names=list(zip(first_names,last_names))\n",
    "full_names"
   ]
  },
  {
   "cell_type": "code",
   "execution_count": 4,
   "id": "3b1481f1-97c3-44b7-835d-82cee3c1d055",
   "metadata": {},
   "outputs": [
    {
     "data": {
      "text/plain": [
       "[4, 9, 16, 25]"
      ]
     },
     "execution_count": 4,
     "metadata": {},
     "output_type": "execute_result"
    }
   ],
   "source": [
    "def square(x):\n",
    "    return x**2\n",
    "\n",
    "numbers=[2,3,4,5]\n",
    "squared_numbers=list(map(square,numbers))\n",
    "squared_numbers"
   ]
  },
  {
   "cell_type": "code",
   "execution_count": null,
   "id": "8c4d14c1-0b4b-48d8-8f46-021c46df868c",
   "metadata": {},
   "outputs": [],
   "source": []
  }
 ],
 "metadata": {
  "kernelspec": {
   "display_name": "Python 3 (ipykernel)",
   "language": "python",
   "name": "python3"
  },
  "language_info": {
   "codemirror_mode": {
    "name": "ipython",
    "version": 3
   },
   "file_extension": ".py",
   "mimetype": "text/x-python",
   "name": "python",
   "nbconvert_exporter": "python",
   "pygments_lexer": "ipython3",
   "version": "3.13.5"
  }
 },
 "nbformat": 4,
 "nbformat_minor": 5
}
