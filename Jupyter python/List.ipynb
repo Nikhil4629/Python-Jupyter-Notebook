{
 "cells": [
  {
   "cell_type": "code",
   "execution_count": 1,
   "id": "d090d3d6-cbb5-420a-bd8c-c8eeb3c339e3",
   "metadata": {},
   "outputs": [],
   "source": [
    "empty_list=[]\n",
    "fruits=[\"apple\",\"banana\",\"mango\"]\n",
    "friends=[\"mary\",\"john\",\"bob\"]\n",
    "numbers=[1,2,3,4,5]\n",
    "booleans=[True,False,True]\n",
    "mix=[\"apple\",24,34.5,False]\n"
   ]
  },
  {
   "cell_type": "code",
   "execution_count": 2,
   "id": "9f5e2a81-6484-4b83-a524-87c42527e62e",
   "metadata": {},
   "outputs": [
    {
     "data": {
      "text/plain": [
       "['apple', 24, 34.5, False]"
      ]
     },
     "execution_count": 2,
     "metadata": {},
     "output_type": "execute_result"
    }
   ],
   "source": [
    "mix\n"
   ]
  },
  {
   "cell_type": "code",
   "execution_count": 3,
   "id": "4c60fee4-62a2-4838-8505-779029250bae",
   "metadata": {},
   "outputs": [
    {
     "data": {
      "text/plain": [
       "['mary', 'john', 'bob']"
      ]
     },
     "execution_count": 3,
     "metadata": {},
     "output_type": "execute_result"
    }
   ],
   "source": [
    "friends"
   ]
  },
  {
   "cell_type": "code",
   "execution_count": 4,
   "id": "97455659-85e9-494f-b89e-5a7384525ab8",
   "metadata": {},
   "outputs": [
    {
     "data": {
      "text/plain": [
       "'mary'"
      ]
     },
     "execution_count": 4,
     "metadata": {},
     "output_type": "execute_result"
    }
   ],
   "source": [
    "friends[0]"
   ]
  },
  {
   "cell_type": "code",
   "execution_count": 5,
   "id": "a929d56e-c58b-44b1-a4e8-e216312996cd",
   "metadata": {},
   "outputs": [
    {
     "data": {
      "text/plain": [
       "'john'"
      ]
     },
     "execution_count": 5,
     "metadata": {},
     "output_type": "execute_result"
    }
   ],
   "source": [
    "friends[1]"
   ]
  },
  {
   "cell_type": "code",
   "execution_count": 6,
   "id": "7d85a554-cc93-43b5-8678-a8e5dcfbe271",
   "metadata": {},
   "outputs": [
    {
     "data": {
      "text/plain": [
       "['mary']"
      ]
     },
     "execution_count": 6,
     "metadata": {},
     "output_type": "execute_result"
    }
   ],
   "source": [
    "friends[0:1]"
   ]
  },
  {
   "cell_type": "code",
   "execution_count": 7,
   "id": "42c886b1-e128-49ff-b0ea-a30108025341",
   "metadata": {},
   "outputs": [
    {
     "data": {
      "text/plain": [
       "['mary', 'john']"
      ]
     },
     "execution_count": 7,
     "metadata": {},
     "output_type": "execute_result"
    }
   ],
   "source": [
    "friends[0:2]"
   ]
  },
  {
   "cell_type": "code",
   "execution_count": 8,
   "id": "eb3e1feb-48c0-4fc0-9041-d33f862938d8",
   "metadata": {},
   "outputs": [
    {
     "data": {
      "text/plain": [
       "['mary', 'john']"
      ]
     },
     "execution_count": 8,
     "metadata": {},
     "output_type": "execute_result"
    }
   ],
   "source": [
    "friends[:2]"
   ]
  },
  {
   "cell_type": "code",
   "execution_count": 9,
   "id": "e139c2f3-ad5d-47c8-a7f5-76123dfa6388",
   "metadata": {},
   "outputs": [
    {
     "data": {
      "text/plain": [
       "['mary', 'john', 'bob']"
      ]
     },
     "execution_count": 9,
     "metadata": {},
     "output_type": "execute_result"
    }
   ],
   "source": [
    "friends[0:]"
   ]
  },
  {
   "cell_type": "code",
   "execution_count": 10,
   "id": "1e6e362a-7303-40ed-996e-9b38bf88ca8d",
   "metadata": {},
   "outputs": [
    {
     "data": {
      "text/plain": [
       "['mary', 'john', 'bob', 'Mosh']"
      ]
     },
     "execution_count": 10,
     "metadata": {},
     "output_type": "execute_result"
    }
   ],
   "source": [
    "friends.append(\"Mosh\")\n",
    "friends"
   ]
  },
  {
   "cell_type": "code",
   "execution_count": 11,
   "id": "91ced458-ff7e-45be-b69a-468be4052576",
   "metadata": {},
   "outputs": [
    {
     "data": {
      "text/plain": [
       "['mary', 'Karan', 'john', 'bob', 'Mosh']"
      ]
     },
     "execution_count": 11,
     "metadata": {},
     "output_type": "execute_result"
    }
   ],
   "source": [
    "friends.insert(1,\"Karan\")\n",
    "friends"
   ]
  },
  {
   "cell_type": "code",
   "execution_count": 13,
   "id": "91d310ed-db0f-4736-b93f-325b9d7e2d40",
   "metadata": {},
   "outputs": [
    {
     "ename": "ValueError",
     "evalue": "list.remove(x): x not in list",
     "output_type": "error",
     "traceback": [
      "\u001b[1;31m---------------------------------------------------------------------------\u001b[0m",
      "\u001b[1;31mValueError\u001b[0m                                Traceback (most recent call last)",
      "Cell \u001b[1;32mIn[13], line 1\u001b[0m\n\u001b[1;32m----> 1\u001b[0m friends\u001b[38;5;241m.\u001b[39mremove(\u001b[38;5;124m\"\u001b[39m\u001b[38;5;124mbob\u001b[39m\u001b[38;5;124m\"\u001b[39m)\n\u001b[0;32m      2\u001b[0m friends\n",
      "\u001b[1;31mValueError\u001b[0m: list.remove(x): x not in list"
     ]
    }
   ],
   "source": [
    "friends.remove(\"bob\")\n",
    "friends"
   ]
  },
  {
   "cell_type": "code",
   "execution_count": 14,
   "id": "e3fa0bf4-a78d-4c3f-bbb8-56c43703b023",
   "metadata": {},
   "outputs": [
    {
     "ename": "ValueError",
     "evalue": "list.remove(x): x not in list",
     "output_type": "error",
     "traceback": [
      "\u001b[1;31m---------------------------------------------------------------------------\u001b[0m",
      "\u001b[1;31mValueError\u001b[0m                                Traceback (most recent call last)",
      "Cell \u001b[1;32mIn[14], line 1\u001b[0m\n\u001b[1;32m----> 1\u001b[0m friends\u001b[38;5;241m.\u001b[39mremove(\u001b[38;5;124m\"\u001b[39m\u001b[38;5;124mbob\u001b[39m\u001b[38;5;124m\"\u001b[39m)\n\u001b[0;32m      2\u001b[0m friends\n",
      "\u001b[1;31mValueError\u001b[0m: list.remove(x): x not in list"
     ]
    }
   ],
   "source": [
    "friends.remove(\"bob\")\n",
    "friends"
   ]
  },
  {
   "cell_type": "code",
   "execution_count": 15,
   "id": "a7c91206-350e-462d-a125-f86d4748af5a",
   "metadata": {},
   "outputs": [
    {
     "data": {
      "text/plain": [
       "['mary', 'Karan', 'john']"
      ]
     },
     "execution_count": 15,
     "metadata": {},
     "output_type": "execute_result"
    }
   ],
   "source": [
    "friends.pop()\n",
    "friends"
   ]
  },
  {
   "cell_type": "code",
   "execution_count": 16,
   "id": "91326083-4542-4531-8e9f-3f86ff87b775",
   "metadata": {},
   "outputs": [
    {
     "data": {
      "text/plain": [
       "['mary', 'john']"
      ]
     },
     "execution_count": 16,
     "metadata": {},
     "output_type": "execute_result"
    }
   ],
   "source": [
    "friends.remove(\"Karan\")\n",
    "friends"
   ]
  },
  {
   "cell_type": "code",
   "execution_count": null,
   "id": "fccfe982-4be4-4ec8-bec3-5a9f54b0282d",
   "metadata": {},
   "outputs": [],
   "source": []
  }
 ],
 "metadata": {
  "kernelspec": {
   "display_name": "Python 3 (ipykernel)",
   "language": "python",
   "name": "python3"
  },
  "language_info": {
   "codemirror_mode": {
    "name": "ipython",
    "version": 3
   },
   "file_extension": ".py",
   "mimetype": "text/x-python",
   "name": "python",
   "nbconvert_exporter": "python",
   "pygments_lexer": "ipython3",
   "version": "3.13.5"
  }
 },
 "nbformat": 4,
 "nbformat_minor": 5
}
