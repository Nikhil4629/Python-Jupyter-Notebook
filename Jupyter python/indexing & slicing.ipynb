{
 "cells": [
  {
   "cell_type": "code",
   "execution_count": 4,
   "id": "fd8b24d8-c26c-4e73-8056-31b8ef00d78a",
   "metadata": {},
   "outputs": [
    {
     "name": "stdout",
     "output_type": "stream",
     "text": [
      "Element at index 2: 30\n"
     ]
    }
   ],
   "source": [
    "import numpy as np\n",
    "\n",
    "array_1d=np.array([10,20,30,40,50])\n",
    "print(\"Element at index 2:\",array_1d[2])"
   ]
  },
  {
   "cell_type": "code",
   "execution_count": 5,
   "id": "17c803dc-a603-4d8b-acfc-a002006a7d60",
   "metadata": {},
   "outputs": [
    {
     "name": "stdout",
     "output_type": "stream",
     "text": [
      "Last element: 50\n",
      "Second-to-last-element: 40\n"
     ]
    }
   ],
   "source": [
    "print(\"Last element:\",array_1d[-1])\n",
    "print(\"Second-to-last-element:\",array_1d[-2])"
   ]
  },
  {
   "cell_type": "code",
   "execution_count": 4,
   "id": "e5e37192-a0c4-481d-9c43-cd4a3a20cfde",
   "metadata": {},
   "outputs": [
    {
     "name": "stdout",
     "output_type": "stream",
     "text": [
      "Element at (1,2): 60\n"
     ]
    }
   ],
   "source": [
    "import numpy as np\n",
    "array_2d=np.array([[10,20,30],[40,50,60]])\n",
    "print(\"Element at (1,2):\",array_2d[1,2])"
   ]
  },
  {
   "cell_type": "code",
   "execution_count": 7,
   "id": "2a806db8-1d74-4fc1-b162-9a5bf6ceac6d",
   "metadata": {},
   "outputs": [
    {
     "name": "stdout",
     "output_type": "stream",
     "text": [
      "Second row: [40 50 60]\n",
      "First column: [10 40]\n"
     ]
    }
   ],
   "source": [
    "print(\"Second row:\",array_2d[1])\n",
    "print(\"First column:\",array_2d[:,0])"
   ]
  },
  {
   "cell_type": "code",
   "execution_count": 8,
   "id": "1c75e5c9-34c1-47de-add2-689a168e64dd",
   "metadata": {},
   "outputs": [
    {
     "name": "stdout",
     "output_type": "stream",
     "text": [
      "Elements greater than 30: [40 50 60]\n"
     ]
    }
   ],
   "source": [
    "boolean_index=array_2d[array_2d>30]\n",
    "print(\"Elements greater than 30:\",boolean_index)"
   ]
  },
  {
   "cell_type": "code",
   "execution_count": 9,
   "id": "0c81592a-010c-4ba2-af9d-4313b1587792",
   "metadata": {},
   "outputs": [
    {
     "name": "stdout",
     "output_type": "stream",
     "text": [
      "Elements at indices 0 and 2 of the first row: [10 30]\n"
     ]
    }
   ],
   "source": [
    "print(\"Elements at indices 0 and 2 of the first row:\",array_2d[0,[0,2]])"
   ]
  },
  {
   "cell_type": "code",
   "execution_count": 10,
   "id": "5a405ba4-2171-49ef-b583-d6edb1d9dc9a",
   "metadata": {},
   "outputs": [
    {
     "name": "stdout",
     "output_type": "stream",
     "text": [
      "Slice id: [20 30 40]\n"
     ]
    }
   ],
   "source": [
    "array_1d=np.array([10,20,30,40,50])\n",
    "slice_id=array_1d[1:4]\n",
    "print(\"Slice id:\",slice_id)"
   ]
  },
  {
   "cell_type": "code",
   "execution_count": 12,
   "id": "bca76d01-553f-48d1-ad3b-570f1d36ca1a",
   "metadata": {},
   "outputs": [
    {
     "name": "stdout",
     "output_type": "stream",
     "text": [
      "Sliced 1d array: [10 30 50]\n"
     ]
    }
   ],
   "source": [
    "slice_step_1d=array_1d[0:5:2]\n",
    "print(\"Sliced 1d array:\",slice_step_1d)"
   ]
  },
  {
   "cell_type": "code",
   "execution_count": 18,
   "id": "d3a726a9-c4c7-45e5-9dcc-c93ee40c92bf",
   "metadata": {},
   "outputs": [
    {
     "name": "stdout",
     "output_type": "stream",
     "text": [
      "Slced 2d array:\n",
      " [[10 20]\n",
      " [40 50]]\n"
     ]
    }
   ],
   "source": [
    "array_2d=np.array([[10,20,30],[40,50,60],[70,80,90]])\n",
    "slice_2d=array_2d[:2,:2]\n",
    "print(\"Slced 2d array:\\n\",slice_2d)"
   ]
  },
  {
   "cell_type": "markdown",
   "id": "f2c5c951-32f7-4b06-bacf-7b573a3ec27d",
   "metadata": {},
   "source": [
    "rows_2d=array_2d[:2]\n",
    "print(\"First two rows:\\n:\",rows_2d)\n"
   ]
  },
  {
   "cell_type": "code",
   "execution_count": 20,
   "id": "c87f5a0c-b5c8-489f-9ad3-2e620192329e",
   "metadata": {},
   "outputs": [
    {
     "name": "stdout",
     "output_type": "stream",
     "text": [
      "First two rows:\n",
      " [[10 20 30]\n",
      " [40 50 60]]\n",
      "Last column:\n",
      " [30 60 90]\n"
     ]
    }
   ],
   "source": [
    "rows_2d=array_2d[:2]\n",
    "print(\"First two rows:\\n\",rows_2d)\n",
    "\n",
    "last_column_2d=array_2d[:,-1]\n",
    "print(\"Last column:\\n\",last_column_2d)"
   ]
  },
  {
   "cell_type": "code",
   "execution_count": 22,
   "id": "e8a45a3f-a1b4-4e7b-aa8d-6c5853641b20",
   "metadata": {},
   "outputs": [
    {
     "name": "stdout",
     "output_type": "stream",
     "text": [
      "Every other row:\n",
      " [[10 20 30]\n",
      " [70 80 90]]\n",
      "Every other column:\n",
      " [[10 30]\n",
      " [40 60]\n",
      " [70 90]]\n"
     ]
    }
   ],
   "source": [
    "step_rows_2d=array_2d[::2]\n",
    "print(\"Every other row:\\n\",step_rows_2d)\n",
    "\n",
    "step_columns_2d=array_2d[:,::2]\n",
    "print(\"Every other column:\\n\",step_columns_2d)"
   ]
  },
  {
   "cell_type": "code",
   "execution_count": null,
   "id": "5aaa1f5c-f392-491e-9a6c-f63ff287ef62",
   "metadata": {},
   "outputs": [],
   "source": []
  }
 ],
 "metadata": {
  "kernelspec": {
   "display_name": "Python 3 (ipykernel)",
   "language": "python",
   "name": "python3"
  },
  "language_info": {
   "codemirror_mode": {
    "name": "ipython",
    "version": 3
   },
   "file_extension": ".py",
   "mimetype": "text/x-python",
   "name": "python",
   "nbconvert_exporter": "python",
   "pygments_lexer": "ipython3",
   "version": "3.13.5"
  }
 },
 "nbformat": 4,
 "nbformat_minor": 5
}
