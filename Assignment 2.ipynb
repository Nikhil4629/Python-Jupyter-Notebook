{
 "cells": [
  {
   "cell_type": "code",
   "execution_count": 9,
   "id": "91444041-a795-48df-b68f-c5640b93449b",
   "metadata": {},
   "outputs": [
    {
     "name": "stdout",
     "output_type": "stream",
     "text": [
      "Original List: [1, 2, 3, 4, 5, 6, 7, 8, 9, 10]\n",
      "Squared List:  [1, 4, 9, 16, 25, 36, 49, 64, 81, 100]\n"
     ]
    }
   ],
   "source": [
    "#1.Python Programming Basics\n",
    "#Task-1\n",
    "#1.Write a Python function that takes a list of numbers and returns a new list with each number squared.\n",
    "\n",
    "def square_list(numbers):\n",
    "    squared = [num ** 2 for num in numbers]\n",
    "    return squared\n",
    "\n",
    "#2. Create a list of 10 integers, use your function to square these numbers, and print the original and squared lists.\n",
    "\n",
    "original_list = [1, 2, 3, 4, 5, 6, 7, 8, 9, 10]\n",
    "squared_list = square_list(original_list)\n",
    "print(\"Original List:\", original_list)\n",
    "print(\"Squared List: \", squared_list)"
   ]
  },
  {
   "cell_type": "code",
   "execution_count": 8,
   "id": "84599700-7dd4-4df1-8ee8-6a73eee31ad8",
   "metadata": {},
   "outputs": [
    {
     "name": "stdout",
     "output_type": "stream",
     "text": [
      "Original Scores:\n",
      "{'Nikhil': 85, 'Saloni': 97, 'Niki': 52, 'Lalu': 39, 'Akku': 75, 'Fatima': 91}\n",
      "\n",
      "Students with Scores Above 50:\n",
      "{'Nikhil': 85, 'Saloni': 97, 'Niki': 52, 'Akku': 75, 'Fatima': 91}\n",
      "\n",
      "Scores After 10% Bonus:\n",
      "{'Nikhil': 93.5, 'Saloni': 106.7, 'Niki': 57.2, 'Lalu': 42.9, 'Akku': 82.5, 'Fatima': 100.1}\n"
     ]
    }
   ],
   "source": [
    "#Task-2\n",
    "#1.Create a dictionary where the keys are names of students and the values are their scores in an exam.\n",
    "\n",
    "student_scores = {'Nikhil': 85,'Saloni': 97,'Niki': 52,'Lalu': 39,'Akku': 75,'Fatima': 91}\n",
    "\n",
    "#2.Write a function that takes this dictionary and returns a new dictionary with only those students who scored above 50.\n",
    "\n",
    "def scores_above_50(scores_dict):\n",
    "    now = {name: score for name, score in scores_dict.items() if score > 50}\n",
    "    return now\n",
    "    \n",
    "#3.Use adictionary comprehension to create a dictionary where the keys are student names and the values are \n",
    "    #their scores multiplied by 1.1 (e.g., adding 10% to the score).\n",
    "\n",
    "bonus_scores = {name: round(score * 1.1, 1) for name, score in student_scores.items()}\n",
    "\n",
    "print(\"Original Scores:\")\n",
    "print(student_scores)\n",
    "\n",
    "print(\"\\nStudents with Scores Above 50:\")\n",
    "print(scores_above_50(student_scores))\n",
    "\n",
    "print(\"\\nScores After 10% Bonus:\")\n",
    "print(bonus_scores)"
   ]
  },
  {
   "cell_type": "code",
   "execution_count": 14,
   "id": "8b154757-2f3b-4358-8899-6d0ee6bb22fd",
   "metadata": {},
   "outputs": [
    {
     "name": "stdout",
     "output_type": "stream",
     "text": [
      "DataFrame:\n",
      "      Name  Age      City\n",
      "0   Nikhil   22  Hongkong\n",
      "1   Saloni   21       USA\n",
      "2  Charlie   35  Thailand\n",
      "3     King   40     India\n",
      "4  Ronaldo   45    Russia\n",
      "\n",
      "Average Age: 32.6\n"
     ]
    }
   ],
   "source": [
    "#2.Data Manipulation with Pandas\n",
    "#Task-1\n",
    "#Use the following dictionary to create a Pandas DataFrame:\n",
    "#data = {\n",
    "#'Name': ['Alice', 'Bob', 'Charlie', 'David', 'Eva'],\n",
    "#'Age': [25, 30, 35, 40, 45],\n",
    "#'City': ['New York', 'Los Angeles', 'Chicago', 'Houston', 'Phoenix']\n",
    "#}\n",
    "\n",
    "import pandas as pd\n",
    "data = {\n",
    "    'Name': ['Nikhil', 'Saloni', 'Charlie', 'King', 'Ronaldo'],\n",
    "    'Age': [22, 21, 35, 40, 45],\n",
    "    'City': ['Hongkong', 'USA', 'Thailand', 'India', 'Russia']\n",
    "}\n",
    "\n",
    "#1.Create a DataFrame from this dictionary.\n",
    "\n",
    "df = pd.DataFrame(data)\n",
    "\n",
    "#2.Display the first few rows of the DataFrame.\n",
    "\n",
    "print(\"DataFrame:\")\n",
    "print(df.head())\n",
    "\n",
    "#3. Calculate and print the average age from the DataFrame.\n",
    "\n",
    "average_age = df['Age'].mean()\n",
    "print(\"\\nAverage Age:\", average_age)"
   ]
  },
  {
   "cell_type": "code",
   "execution_count": 18,
   "id": "458aa0dd-c16c-4057-89a1-b3e86c8f3659",
   "metadata": {},
   "outputs": [
    {
     "name": "stdout",
     "output_type": "stream",
     "text": [
      "Filtered DataFrame (Age > 30):\n",
      "      Name  Age      City\n",
      "2  Charlie   35  Thailand\n",
      "3     King   40     India\n",
      "4  Ronaldo   45    Russia\n",
      "\n",
      "DataFrame with AgeGroup column:\n",
      "      Name  Age      City AgeGroup\n",
      "0   Nikhil   22  Hongkong    Adult\n",
      "1   Saloni   21       USA    Adult\n",
      "2  Charlie   35  Thailand    Adult\n",
      "3     King   40     India   Senior\n",
      "4  Ronaldo   45    Russia   Senior\n",
      "\n",
      "Average Age by AgeGroup:\n",
      "AgeGroup\n",
      "Adult     26.0\n",
      "Senior    42.5\n",
      "Name: Age, dtype: float64\n"
     ]
    }
   ],
   "source": [
    "#Task-2\n",
    "#1.Filter the DataFrame to include only rows where the age is greater than 30.\n",
    "\n",
    "import pandas as pd\n",
    "data = {\n",
    "    'Name': ['Nikhil', 'Saloni', 'Charlie', 'King', 'Ronaldo'],\n",
    "    'Age': [22, 21, 35, 40, 45],\n",
    "    'City': ['Hongkong', 'USA', 'Thailand', 'India', 'Russia']\n",
    "}\n",
    "\n",
    "df = pd.DataFrame(data)\n",
    "filtered_df = df[df['Age'] > 30]\n",
    "print(\"Filtered DataFrame (Age > 30):\")\n",
    "print(filtered_df)\n",
    "\n",
    "#2.Add anewcolumn to the DataFrame called AgeGroup, where the value is 'Senior' if age is greater than or equal to 40, otherwise 'Adult'.\n",
    "\n",
    "df['AgeGroup'] = df['Age'].apply(lambda age: 'Senior' if age >= 40 else 'Adult')\n",
    "print(\"\\nDataFrame with AgeGroup column:\")\n",
    "print(df)\n",
    "\n",
    "#3.Group the data by AgeGroup and calculate the average age for each group\n",
    "\n",
    "avg_age = df.groupby('AgeGroup')['Age'].mean()\n",
    "print(\"\\nAverage Age by AgeGroup:\")\n",
    "print(avg_age)"
   ]
  },
  {
   "cell_type": "code",
   "execution_count": 19,
   "id": "34a6c2fb-c12c-4f00-81ad-304c58b76eb1",
   "metadata": {},
   "outputs": [
    {
     "name": "stdout",
     "output_type": "stream",
     "text": [
      "Original Array:\n",
      "[36 22 31 15 48 15 46 24 45  6 46 27]\n",
      "\n",
      "Reshaped 3x4 Matrix:\n",
      "[[36 22 31 15]\n",
      " [48 15 46 24]\n",
      " [45  6 46 27]]\n",
      "\n",
      "Maximum Value: 48\n",
      "Minimum Value: 6\n",
      "Mean Value:    30.08\n"
     ]
    }
   ],
   "source": [
    "#3.Data Manipulation with NumPy\n",
    "#Task-1\n",
    "#1.Create a NumPy array with 12 random integers between 1 and 50.\n",
    "\n",
    "import numpy as np\n",
    "array = np.random.randint(1, 51, size=12)\n",
    "print(\"Original Array:\")\n",
    "print(array)\n",
    "\n",
    "#2.Reshape the array into a 3x4 matrix.\n",
    "\n",
    "matrix = array.reshape(3, 4)\n",
    "print(\"\\nReshaped 3x4 Matrix:\")\n",
    "print(matrix)\n",
    "\n",
    "#3.Find and print the maximum, minimum, and mean values of the array.\n",
    "\n",
    "max_val = np.max(array)\n",
    "min_val = np.min(array)\n",
    "mean_val = np.mean(array)\n",
    "\n",
    "print(\"\\nMaximum Value:\", max_val)\n",
    "print(\"Minimum Value:\", min_val)\n",
    "print(\"Mean Value:   \", round(mean_val, 2))"
   ]
  },
  {
   "cell_type": "code",
   "execution_count": 20,
   "id": "25a9b443-1ac6-4480-9af3-233e8831baa7",
   "metadata": {},
   "outputs": [
    {
     "name": "stdout",
     "output_type": "stream",
     "text": [
      "Original Array (4x3):\n",
      "[[ 1  2  3]\n",
      " [ 4  5  6]\n",
      " [ 7  8  9]\n",
      " [10 11 12]]\n",
      "\n",
      "Second Row:\n",
      "[4 5 6]\n",
      "\n",
      "2x2 Submatrix (Top-Left Corner):\n",
      "[[1 2]\n",
      " [4 5]]\n"
     ]
    }
   ],
   "source": [
    "#Task-2\n",
    "#1.Create a NumPy array of shape (4, 3) with values from 1 to 12.\n",
    "\n",
    "import numpy as np\n",
    "array = np.arange(1, 13).reshape(4, 3)\n",
    "print(\"Original Array (4x3):\")\n",
    "print(array)\n",
    "\n",
    "#2.Extract and print the second row of the array.\n",
    "\n",
    "second_row = array[1]\n",
    "print(\"\\nSecond Row:\")\n",
    "print(second_row)\n",
    "\n",
    "#3.Extract and print a 2x2 submatrix from the top-left corner of the array.\n",
    "\n",
    "submatrix = array[0:2, 0:2]\n",
    "print(\"\\n2x2 Submatrix (Top-Left Corner):\")\n",
    "print(submatrix)"
   ]
  },
  {
   "cell_type": "code",
   "execution_count": null,
   "id": "185cea09-95e3-4b44-a469-82bcb582a19c",
   "metadata": {},
   "outputs": [],
   "source": []
  }
 ],
 "metadata": {
  "kernelspec": {
   "display_name": "Python 3 (ipykernel)",
   "language": "python",
   "name": "python3"
  },
  "language_info": {
   "codemirror_mode": {
    "name": "ipython",
    "version": 3
   },
   "file_extension": ".py",
   "mimetype": "text/x-python",
   "name": "python",
   "nbconvert_exporter": "python",
   "pygments_lexer": "ipython3",
   "version": "3.13.5"
  }
 },
 "nbformat": 4,
 "nbformat_minor": 5
}
